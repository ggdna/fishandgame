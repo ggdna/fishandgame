{
 "cells": [
  {
   "cell_type": "code",
   "execution_count": 1,
   "metadata": {},
   "outputs": [],
   "source": [
    "import ase\n",
    "import matplotlib.pyplot as plt"
   ]
  },
  {
   "cell_type": "code",
   "execution_count": 26,
   "metadata": {},
   "outputs": [],
   "source": [
    "def print_swatch_names(swatches):\n",
    "    for s in swatches:\n",
    "        print(s['name'])\n",
    "\n",
    "def get_hex_list(swatch_name):\n",
    "    \n",
    "    for s in swatches:\n",
    "        if s['name'] == swatch_name:\n",
    "            colors = [c['data']['values'] for c in s['swatches']]\n",
    "            colors = ['#{:02x}{:02x}{:02x}'.format(int(255*c[0]),\n",
    "                                                   int(255*c[1]),\n",
    "                                                   int(255*c[2])) for c in colors]\n",
    "            for i in range(len(colors)):\n",
    "                plt.text(0, i/len(colors), \"Index %d\" %i, color=colors[i])\n",
    "            plt.axis('off')\n",
    "            plt.show()\n",
    "    return colors\n",
    "\n",
    "def print_json(hex_list, palette_name, subset=False):\n",
    "    \"\"\"\n",
    "    takes hex list and makes json entry\n",
    "    \"\"\"\n",
    "    print(\"{\")\n",
    "    print(\"\\t\\\"name\\\": \\\"%s\\\",\" %palette_name)\n",
    "    if not subset:\n",
    "        print(\"\\t\\\"colors\\\": %s\" %str(hex_list))\n",
    "    else:\n",
    "        print(\"\\t\\\"colors\\\": %s\" %str([hex_list[i] for i in range(len(hex_list))\n",
    "                                      if i in subset]))\n",
    "    print(\"}\")"
   ]
  },
  {
   "cell_type": "code",
   "execution_count": 30,
   "metadata": {},
   "outputs": [
    {
     "data": {
      "image/png": "[encoded data removed]",
      "text/plain": [
       "<Figure size 432x288 with 1 Axes>"
      ]
     },
     "metadata": {
      "needs_background": "light"
     },
     "output_type": "display_data"
    },
    {
     "name": "stdout",
     "output_type": "stream",
     "text": [
      "{\n",
      "\t\"name\": \"deer16\",\n",
      "\t\"colors\": ['#b48888', '#966d6c', '#4e2926', '#7a5552', '#703f27', '#e28b4f', '#9f673b', '#be7d47', '#fc9b41', '#8d5e28', '#b67a2f', '#7c531c', '#f8deaf', '#a67211', '#1c0c0f', '#e45c64']\n",
      "}\n"
     ]
    }
   ],
   "source": [
    "swatches = ase.parse(\"fish_game_colors.ase\")\n",
    "\n",
    "print_json(get_hex_list('deer'), 'deer16',)"
   ]
  },
  {
   "cell_type": "code",
   "execution_count": null,
   "metadata": {},
   "outputs": [],
   "source": []
  },
  {
   "cell_type": "code",
   "execution_count": null,
   "metadata": {},
   "outputs": [],
   "source": []
  }
 ],
 "metadata": {
  "kernelspec": {
   "display_name": "Python 3 (ipykernel)",
   "language": "python",
   "name": "python3"
  },
  "language_info": {
   "codemirror_mode": {
    "name": "ipython",
    "version": 3
   },
   "file_extension": ".py",
   "mimetype": "text/x-python",
   "name": "python",
   "nbconvert_exporter": "python",
   "pygments_lexer": "ipython3",
   "version": "3.9.5"
  }
 },
 "nbformat": 4,
 "nbformat_minor": 4
}
